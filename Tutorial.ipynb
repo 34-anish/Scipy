{
 "cells": [
  {
   "cell_type": "markdown",
   "id": "17a09a36",
   "metadata": {},
   "source": [
    "# Major takewaway\n",
    "- Learnt using the markdown\n",
    "- scipy optimization to find the minimum value of the function\n",
    "- lamda function in the python\n",
    "```\n",
    "x= lambda a,b,c: a+b+c\n",
    "print(x(5,3,2)) \n",
    "```\n",
    "##### prints 5+3+2\n",
    "```\n",
    "f = lambda x: x[0]+x[1]\n",
    "print(f((1,2)))\n",
    "```\n",
    "##### prints 1+2\n",
    "---\n",
    "\n",
    "### The use of np.linspace() and np.arange()\n",
    "\n",
    "`\n",
    "np.linspace(0,200)\n",
    "`\n",
    ">divides the data from 0 to 200 into **50** equal parts\n",
    "\n",
    "`\n",
    "np.arange(0,200)\n",
    "`\n",
    ">divides the data from 0 to 200 into **200** equal parts\n"
   ]
  },
  {
   "cell_type": "code",
   "execution_count": 102,
   "id": "e335bf44",
   "metadata": {},
   "outputs": [],
   "source": [
    "import  numpy as np\n",
    "import pandas as pd\n",
    "import scipy as sp\n",
    "import matplotlib.pyplot as plt\n",
    "%matplotlib inline"
   ]
  },
  {
   "cell_type": "markdown",
   "id": "08e65d79",
   "metadata": {},
   "source": [
    "# Minimze the function $f(x) = (x-3)^2 $\n"
   ]
  },
  {
   "cell_type": "code",
   "execution_count": 103,
   "id": "27de849d",
   "metadata": {},
   "outputs": [],
   "source": [
    "from scipy.optimize import minimize"
   ]
  },
  {
   "cell_type": "code",
   "execution_count": 104,
   "id": "6b87a2d9",
   "metadata": {},
   "outputs": [
    {
     "data": {
      "text/plain": [
       "      fun: array([-1.11270761e+09])\n",
       " hess_inv: array([[-0.00032106]])\n",
       "      jac: array([3221376.])\n",
       "  message: 'Desired error not necessarily achieved due to precision loss.'\n",
       "     nfev: 236\n",
       "      nit: 1\n",
       "     njev: 112\n",
       "   status: 2\n",
       "  success: False\n",
       "        x: array([-1033.24])"
      ]
     },
     "execution_count": 104,
     "metadata": {},
     "output_type": "execute_result"
    }
   ],
   "source": [
    "def f(x):\n",
    "    return (x-3)**3\n",
    "\n",
    "res =  minimize(f,x0=1)\n",
    "res"
   ]
  },
  {
   "cell_type": "code",
   "execution_count": 105,
   "id": "501124a1",
   "metadata": {
    "scrolled": true
   },
   "outputs": [
    {
     "data": {
      "text/plain": [
       "array([-1033.24])"
      ]
     },
     "execution_count": 105,
     "metadata": {},
     "output_type": "execute_result"
    }
   ],
   "source": [
    "res.x"
   ]
  },
  {
   "cell_type": "code",
   "execution_count": null,
   "id": "608f601f",
   "metadata": {},
   "outputs": [],
   "source": []
  },
  {
   "attachments": {},
   "cell_type": "markdown",
   "id": "e2269855",
   "metadata": {},
   "source": [
    "# Minimize $f(x, y) = (x-1)^2 + (y-2.5)^2$ subject to\n",
    "\n",
    "$$x-2y+2 \\geq 0 $$\n",
    "$$-x-2y+6 \\geq 0$$\n",
    "$$-x + 2y + 2 \\geq 0$$\n",
    "$$x \\geq 0 $$\n",
    "$$y \\geq 0 $$\n"
   ]
  },
  {
   "cell_type": "code",
   "execution_count": 106,
   "id": "10a838eb",
   "metadata": {},
   "outputs": [
    {
     "data": {
      "text/plain": [
       "     fun: 0.8000000011920985\n",
       "     jac: array([ 0.80000002, -1.59999999])\n",
       " message: 'Optimization terminated successfully'\n",
       "    nfev: 10\n",
       "     nit: 3\n",
       "    njev: 3\n",
       "  status: 0\n",
       " success: True\n",
       "       x: array([1.4, 1.7])"
      ]
     },
     "execution_count": 106,
     "metadata": {},
     "output_type": "execute_result"
    }
   ],
   "source": [
    "def f(params):\n",
    "    return (params[0]-1)**2 +(params[1]-2.5)**2\n",
    "cons = ({'type': 'ineq', 'fun': lambda x:  x[0] - 2 * x[1] + 2},\n",
    "        {'type': 'ineq', 'fun': lambda x: -x[0] - 2 * x[1] + 6},\n",
    "        {'type': 'ineq', 'fun': lambda x: -x[0] + 2 * x[1] + 2})\n",
    "bnds = ((0, None), (0, None))\n",
    "res = minimize(f, (2, 0), bounds=bnds, constraints=cons)\n",
    "res\n"
   ]
  },
  {
   "cell_type": "markdown",
   "id": "a3fbcc4b",
   "metadata": {},
   "source": [
    "<p>\n",
    "    <img src =\"images/1.png\">\n",
    "   </p>\n",
    "\n"
   ]
  },
  {
   "cell_type": "code",
   "execution_count": 107,
   "id": "c08a97c4",
   "metadata": {},
   "outputs": [
    {
     "data": {
      "text/plain": [
       "0.25"
      ]
     },
     "execution_count": 107,
     "metadata": {},
     "output_type": "execute_result"
    }
   ],
   "source": [
    "f([1,2])"
   ]
  },
  {
   "cell_type": "code",
   "execution_count": 108,
   "id": "63695bca",
   "metadata": {},
   "outputs": [
    {
     "name": "stdout",
     "output_type": "stream",
     "text": [
      "6.25\n"
     ]
    }
   ],
   "source": [
    "f = lambda x: (x[0] - 1)**2 + (x[1] - 2.5)**2\n",
    "print(f((1,0)))"
   ]
  },
  {
   "cell_type": "code",
   "execution_count": 109,
   "id": "a1f45fd2",
   "metadata": {},
   "outputs": [],
   "source": [
    "f = lambda x: (x[0] - 1)**2 + (x[1] - 2.5)**2\n",
    "cons = ({'type': 'ineq', 'fun': lambda x:  x[0] - 2 * x[1] + 2},\n",
    "        {'type': 'ineq', 'fun': lambda x: -x[0] - 2 * x[1] + 6},\n",
    "        {'type': 'ineq', 'fun': lambda x: -x[0] + 2 * x[1] + 2})\n",
    "bnds = ((0, None), (0, None))\n",
    "res = minimize(f, (2, 0), bounds=bnds, constraints=cons)"
   ]
  },
  {
   "cell_type": "code",
   "execution_count": 110,
   "id": "ebf4867b",
   "metadata": {},
   "outputs": [
    {
     "data": {
      "text/plain": [
       "array([1.4, 1.7])"
      ]
     },
     "execution_count": 110,
     "metadata": {},
     "output_type": "execute_result"
    }
   ],
   "source": [
    "res.x"
   ]
  },
  {
   "cell_type": "code",
   "execution_count": null,
   "id": "235e4009",
   "metadata": {},
   "outputs": [],
   "source": []
  },
  {
   "cell_type": "markdown",
   "id": "08b9b855",
   "metadata": {},
   "source": [
    "# €Interpolation€"
   ]
  },
  {
   "cell_type": "code",
   "execution_count": 111,
   "id": "c5e72ec4",
   "metadata": {},
   "outputs": [
    {
     "data": {
      "text/plain": [
       "<matplotlib.collections.PathCollection at 0x17f3393b6a0>"
      ]
     },
     "execution_count": 111,
     "metadata": {},
     "output_type": "execute_result"
    },
    {
     "data": {
      "image/png": "[encoded data removed]",
      "text/plain": [
       "<Figure size 432x288 with 1 Axes>"
      ]
     },
     "metadata": {
      "needs_background": "light"
     },
     "output_type": "display_data"
    }
   ],
   "source": [
    "x = np.linspace(0,10,10)\n",
    "y= x**2*np.sin(x)\n",
    "plt.scatter(x,y)"
   ]
  },
  {
   "cell_type": "code",
   "execution_count": 112,
   "id": "fd305473",
   "metadata": {},
   "outputs": [
    {
     "data": {
      "text/plain": [
       "[<matplotlib.lines.Line2D at 0x17f34c94a60>]"
      ]
     },
     "execution_count": 112,
     "metadata": {},
     "output_type": "execute_result"
    },
    {
     "data": {
      "image/png": "[encoded data removed]",
      "text/plain": [
       "<Figure size 432x288 with 1 Axes>"
      ]
     },
     "metadata": {
      "needs_background": "light"
     },
     "output_type": "display_data"
    }
   ],
   "source": [
    "plt.plot(x,y)"
   ]
  },
  {
   "cell_type": "code",
   "execution_count": 113,
   "id": "8c9d3f88",
   "metadata": {},
   "outputs": [
    {
     "data": {
      "text/plain": [
       "[<matplotlib.lines.Line2D at 0x17f34cff670>]"
      ]
     },
     "execution_count": 113,
     "metadata": {},
     "output_type": "execute_result"
    },
    {
     "data": {
      "image/png": "[encoded data removed]",
      "text/plain": [
       "<Figure size 432x288 with 1 Axes>"
      ]
     },
     "metadata": {
      "needs_background": "light"
     },
     "output_type": "display_data"
    }
   ],
   "source": [
    "x = np.linspace(0,10,100)\n",
    "y= x**2*np.sin(x)\n",
    "plt.plot(x,y)"
   ]
  },
  {
   "cell_type": "markdown",
   "id": "ecaab33c",
   "metadata": {},
   "source": [
    "## This is a linear interpolation"
   ]
  },
  {
   "cell_type": "code",
   "execution_count": 118,
   "id": "725a909e",
   "metadata": {},
   "outputs": [],
   "source": [
    "x = np.linspace(0,10,10)\n",
    "y= x**2*np.sin(x)"
   ]
  },
  {
   "cell_type": "code",
   "execution_count": 119,
   "id": "c219a3e9",
   "metadata": {},
   "outputs": [
    {
     "data": {
      "text/plain": [
       "[<matplotlib.lines.Line2D at 0x17f34ef9c10>]"
      ]
     },
     "execution_count": 119,
     "metadata": {},
     "output_type": "execute_result"
    },
    {
     "data": {
      "image/png": "[encoded data removed]",
      "text/plain": [
       "<Figure size 432x288 with 1 Axes>"
      ]
     },
     "metadata": {
      "needs_background": "light"
     },
     "output_type": "display_data"
    }
   ],
   "source": [
    "from scipy.interpolate import interp1d\n",
    "f = interp1d(x,y,kind='linear')\n",
    "x_dense = np.linspace(0,10,10)\n",
    "y_dense = f(x_dense)\n",
    "plt.plot(x_dense,y_dense)"
   ]
  },
  {
   "cell_type": "code",
   "execution_count": 124,
   "id": "6b1c9ea5",
   "metadata": {},
   "outputs": [
    {
     "data": {
      "text/plain": [
       "[<matplotlib.lines.Line2D at 0x17f35107d00>]"
      ]
     },
     "execution_count": 124,
     "metadata": {},
     "output_type": "execute_result"
    },
    {
     "data": {
      "image/png": "[encoded data removed]",
      "text/plain": [
       "<Figure size 432x288 with 1 Axes>"
      ]
     },
     "metadata": {
      "needs_background": "light"
     },
     "output_type": "display_data"
    }
   ],
   "source": [
    "from scipy.interpolate import interp1d\n",
    "f = interp1d(x,y,kind='cubic')\n",
    "x_dense = np.linspace(0,10,100)\n",
    "y_dense = f(x_dense)\n",
    "plt.scatter(x,y,color=\"red\")\n",
    "plt.plot(x_dense,y_dense)"
   ]
  },
  {
   "cell_type": "code",
   "execution_count": 125,
   "id": "b6948b7d",
   "metadata": {},
   "outputs": [
    {
     "data": {
      "text/plain": [
       "[<matplotlib.lines.Line2D at 0x17f35174880>]"
      ]
     },
     "execution_count": 125,
     "metadata": {},
     "output_type": "execute_result"
    },
    {
     "data": {
      "image/png": "[encoded data removed]",
      "text/plain": [
       "<Figure size 432x288 with 1 Axes>"
      ]
     },
     "metadata": {
      "needs_background": "light"
     },
     "output_type": "display_data"
    }
   ],
   "source": [
    "x= np.linspace(0,100,11)\n",
    "y= np.cos(x)\n",
    "# print(\"x:\",x[-1])\n",
    "# print(\"y:\",y)\n",
    "interpolation = interp1d(x,y)\n",
    "x_interpolated= np.linspace(0,100,190)\n",
    "y_interpolated=interpolation(x_interpolated)\n",
    "# print(x_interpolated[-1])\n",
    "plt.xlabel(\"x\")\n",
    "plt.scatter(x,y,color=\"red\")\n",
    "\n",
    "plt.plot(x_interpolated,y_interpolated,color=\"blue\")\n",
    "\n"
   ]
  },
  {
   "cell_type": "code",
   "execution_count": 117,
   "id": "e4947cf7",
   "metadata": {},
   "outputs": [
    {
     "name": "stdout",
     "output_type": "stream",
     "text": [
      "x: [10 11 12 13 14 15 16 17 18 19]\n",
      "y: [0.36787944 0.33287108 0.30119421 0.27253179 0.24659696 0.22313016\n",
      " 0.20189652 0.18268352 0.16529889 0.14956862]\n",
      "new_x: [10.  10.1 10.2 10.3 10.4 10.5 10.6 10.7 10.8 10.9 11.  11.1 11.2 11.3\n",
      " 11.4 11.5 11.6 11.7 11.8 11.9 12.  12.1 12.2 12.3 12.4 12.5 12.6 12.7\n",
      " 12.8 12.9 13.  13.1 13.2 13.3 13.4 13.5 13.6 13.7 13.8 13.9 14.  14.1\n",
      " 14.2 14.3 14.4 14.5 14.6 14.7 14.8 14.9 15.  15.1 15.2 15.3 15.4 15.5\n",
      " 15.6 15.7 15.8 15.9 16.  16.1 16.2 16.3 16.4 16.5 16.6 16.7 16.8 16.9\n",
      " 17.  17.1 17.2 17.3 17.4 17.5 17.6 17.7 17.8 17.9 18.  18.1 18.2 18.3\n",
      " 18.4 18.5 18.6 18.7 18.8 18.9]\n",
      "new_y: [0.36787944 0.36437861 0.36087777 0.35737693 0.3538761  0.35037526\n",
      " 0.34687443 0.34337359 0.33987276 0.33637192 0.33287108 0.3297034\n",
      " 0.32653571 0.32336802 0.32020033 0.31703265 0.31386496 0.31069727\n",
      " 0.30752959 0.3043619  0.30119421 0.29832797 0.29546173 0.29259549\n",
      " 0.28972924 0.286863   0.28399676 0.28113052 0.27826428 0.27539803\n",
      " 0.27253179 0.26993831 0.26734483 0.26475134 0.26215786 0.25956438\n",
      " 0.2569709  0.25437741 0.25178393 0.24919045 0.24659696 0.24425028\n",
      " 0.2419036  0.23955692 0.23721024 0.23486356 0.23251688 0.2301702\n",
      " 0.22782352 0.22547684 0.22313016 0.2210068  0.21888343 0.21676007\n",
      " 0.2146367  0.21251334 0.21038997 0.20826661 0.20614325 0.20401988\n",
      " 0.20189652 0.19997522 0.19805392 0.19613262 0.19421132 0.19229002\n",
      " 0.19036872 0.18844742 0.18652612 0.18460482 0.18268352 0.18094506\n",
      " 0.1792066  0.17746813 0.17572967 0.17399121 0.17225274 0.17051428\n",
      " 0.16877582 0.16703735 0.16529889 0.16372586 0.16215283 0.16057981\n",
      " 0.15900678 0.15743375 0.15586073 0.1542877  0.15271467 0.15114165]\n",
      "10 90\n"
     ]
    },
    {
     "data": {
      "image/png": "[encoded data removed]",
      "text/plain": [
       "<Figure size 432x288 with 1 Axes>"
      ]
     },
     "metadata": {
      "needs_background": "light"
     },
     "output_type": "display_data"
    }
   ],
   "source": [
    "\n",
    "x = np.arange(10,20)\n",
    "\n",
    "print('x:',x)\n",
    "\n",
    "\n",
    "y = np.exp(-x/10)\n",
    "\n",
    "print('y:',y)\n",
    "\n",
    "\n",
    "\n",
    "f_linear = sp.interpolate.interp1d(x,y) \n",
    "\n",
    "\n",
    "xnew = np.arange(10,19,0.1)\n",
    "\n",
    "\n",
    "ynew = f_linear(xnew) \n",
    "\n",
    "print('new_x:',xnew)\n",
    "print('new_y:',ynew)\n",
    "\n",
    "\n",
    "\n",
    "plt.scatter(x, y, color = 'blue')\n",
    "\n",
    "\n",
    "plt.plot(xnew, ynew, color = 'black')\n",
    "\n",
    "\n",
    "plt.xlabel(\"X\")\n",
    "\n",
    "\n",
    "plt.ylabel(\"Y\")\n",
    "print(len(x),len(xnew))"
   ]
  },
  {
   "cell_type": "markdown",
   "id": "c8030d88",
   "metadata": {},
   "source": [
    "So,moreover the interpolation is finding out the value within **the domain**"
   ]
  },
  {
   "cell_type": "markdown",
   "id": "f1973e01",
   "metadata": {},
   "source": [
    "### Curve Fitting\n",
    "Let $ y=3x^2+2 $ be a function which is in the form of $ax^2+b$ \n",
    ">the major theme of the curve fitting is to determine a and b with the help of given quadriatic dta"
   ]
  },
  {
   "cell_type": "code",
   "execution_count": 126,
   "id": "e8ecc35e",
   "metadata": {},
   "outputs": [],
   "source": [
    "x_data = np.linspace(0,10,10)\n",
    "y_data = 3*x_data**2+2"
   ]
  },
  {
   "cell_type": "code",
   "execution_count": 133,
   "id": "fdfa38d9",
   "metadata": {
    "scrolled": true
   },
   "outputs": [
    {
     "data": {
      "text/plain": [
       "array([3., 2.])"
      ]
     },
     "execution_count": 133,
     "metadata": {},
     "output_type": "execute_result"
    }
   ],
   "source": [
    "from scipy.optimize import curve_fit\n",
    "\n",
    "def func(x,a,b):\n",
    "    return a*x**2+b\n",
    "point , covariance = curve_fit(func,x_data,y_data,(0,0))\n",
    "point"
   ]
  },
  {
   "cell_type": "markdown",
   "id": "d01007a1",
   "metadata": {},
   "source": [
    "__Covariance is the error on the parameters and tells how the parameters are related when they are fitted with the given a and b__"
   ]
  },
  {
   "cell_type": "markdown",
   "id": "e6584fe1",
   "metadata": {},
   "source": [
    "## The following data were collected on the physics lab on the experiment of \"The study of the SHM on the pendlum.\" Lets figure out what could be found out"
   ]
  },
  {
   "cell_type": "markdown",
   "id": "ca42b832",
   "metadata": {},
   "source": [
    "![Pendulum](images/2.jpg)\n",
    "$y(t) = A\\cos(\\omega t +\\phi)$"
   ]
  },
  {
   "cell_type": "code",
   "execution_count": 134,
   "id": "9e6ddd98",
   "metadata": {},
   "outputs": [],
   "source": [
    "t_data = np.array([ 0.   ,  0.34482759,  0.68965517,  1.03448276,  1.37931034,\n",
    "        1.72413793,  2.06896552,  2.4137931 ,  2.75862069,  3.10344828,\n",
    "        3.44827586,  3.79310345,  4.13793103,  4.48275862,  4.82758621,\n",
    "        5.17241379,  5.51724138,  5.86206897,  6.20689655,  6.55172414,\n",
    "        6.89655172,  7.24137931,  7.5862069 ,  7.93103448,  8.27586207,\n",
    "        8.62068966,  8.96551724,  9.31034483,  9.65517241, 10.        ])\n",
    "y_data = np.array([ 4.3303953 ,  1.61137995, -2.15418696, -3.90137249, -1.67259042,\n",
    "        2.16884383,  3.86635998,  1.85194506, -1.8489224 , -3.96560495,\n",
    "       -2.13385255,  1.59425817,  4.06145238,  1.89300594, -1.76870297,\n",
    "       -4.26791226, -2.46874133,  1.37019912,  4.24945607,  2.27038039,\n",
    "       -1.50299303, -3.46774049, -2.50845488,  1.20022052,  3.81633703,\n",
    "        2.91511556, -1.24569189, -3.72716214, -2.54549857,  0.87262548])"
   ]
  },
  {
   "cell_type": "code",
   "execution_count": 135,
   "id": "856a1194",
   "metadata": {},
   "outputs": [
    {
     "data": {
      "text/plain": [
       "[<matplotlib.lines.Line2D at 0x17f35bd75e0>]"
      ]
     },
     "execution_count": 135,
     "metadata": {},
     "output_type": "execute_result"
    },
    {
     "data": {
      "image/png": "[encoded data removed]",
      "text/plain": [
       "<Figure size 432x288 with 1 Axes>"
      ]
     },
     "metadata": {
      "needs_background": "light"
     },
     "output_type": "display_data"
    }
   ],
   "source": [
    "plt.plot(t_data,y_data,'o:')"
   ]
  },
  {
   "cell_type": "markdown",
   "id": "5e4ebd54",
   "metadata": {},
   "source": [
    "_Useful links for graph styling_\n",
    "- https://matplotlib.org/stable/api/_as_gen/matplotlib.pyplot.plot.html\n",
    "- https://stackoverflow.com/questions/48847962/what-does-o-mean-in-matplotlibs-plot-function"
   ]
  },
  {
   "cell_type": "code",
   "execution_count": 145,
   "id": "1887a550",
   "metadata": {},
   "outputs": [
    {
     "data": {
      "text/plain": [
       "array([3.94836219, 2.99899521, 0.10411352])"
      ]
     },
     "execution_count": 145,
     "metadata": {},
     "output_type": "execute_result"
    }
   ],
   "source": [
    "def func(t,A,w,phi):\n",
    "    return A * np.cos(w*t+phi)\n",
    "result,cov=curve_fit(func,t_data,y_data,p0=(4,np.pi,0))\n",
    "result"
   ]
  },
  {
   "cell_type": "code",
   "execution_count": 147,
   "id": "4fbdf9d1",
   "metadata": {},
   "outputs": [],
   "source": [
    "A,w,phi=result"
   ]
  },
  {
   "cell_type": "code",
   "execution_count": 148,
   "id": "003516b8",
   "metadata": {},
   "outputs": [],
   "source": [
    "t=np.linspace(0,10,100)\n",
    "y = func(t,A,w,phi)"
   ]
  },
  {
   "cell_type": "code",
   "execution_count": 152,
   "id": "bba47152",
   "metadata": {},
   "outputs": [
    {
     "data": {
      "text/plain": [
       "<matplotlib.legend.Legend at 0x17f35d7df70>"
      ]
     },
     "execution_count": 152,
     "metadata": {},
     "output_type": "execute_result"
    },
    {
     "data": {
      "image/png": "[encoded data removed]",
      "text/plain": [
       "<Figure size 432x288 with 1 Axes>"
      ]
     },
     "metadata": {
      "needs_background": "light"
     },
     "output_type": "display_data"
    }
   ],
   "source": [
    "plt.figsize=(10,10)\n",
    "plt.scatter(t_data,y_data,color='red' , label =\"Actual\")\n",
    "plt.plot(t,y,color='blue',label=\"Curve\")\n",
    "plt.legend()\n"
   ]
  },
  {
   "cell_type": "code",
   "execution_count": 153,
   "id": "44ec2f42",
   "metadata": {},
   "outputs": [
    {
     "data": {
      "text/plain": [
       "array([[ 2.61882717e-03, -4.94131505e-06,  3.47404558e-05],\n",
       "       [-4.94131505e-06,  1.85637335e-05, -9.60755036e-05],\n",
       "       [ 3.47404558e-05, -9.60755036e-05,  6.63423791e-04]])"
      ]
     },
     "execution_count": 153,
     "metadata": {},
     "output_type": "execute_result"
    }
   ],
   "source": [
    "cov"
   ]
  }
 ],
 "metadata": {
  "kernelspec": {
   "display_name": "Python 3 (ipykernel)",
   "language": "python",
   "name": "python3"
  },
  "language_info": {
   "codemirror_mode": {
    "name": "ipython",
    "version": 3
   },
   "file_extension": ".py",
   "mimetype": "text/x-python",
   "name": "python",
   "nbconvert_exporter": "python",
   "pygments_lexer": "ipython3",
   "version": "3.9.12"
  }
 },
 "nbformat": 4,
 "nbformat_minor": 5
}
